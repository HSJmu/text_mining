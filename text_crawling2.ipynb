{
 "cells": [
  {
   "cell_type": "code",
   "execution_count": 1,
   "metadata": {},
   "outputs": [],
   "source": [
    "from bs4 import BeautifulSoup as bs\n",
    "from tqdm import tqdm\n",
    "import pandas as pd\n",
    "import requests\n",
    "import json\n",
    "import re\n",
    "import time"
   ]
  },
  {
   "cell_type": "code",
   "execution_count": 2,
   "metadata": {},
   "outputs": [],
   "source": [
    "headers = {\n",
    "    'Accept': 'application/json, text/javascript, */*; q=0.01',\n",
    "    'Accept-Language': 'ko,en;q=0.9,en-US;q=0.8',\n",
    "    'Content-Type': 'application/json;charset=UTF-8',\n",
    "    'Host': 'www.bigkinds.or.kr',\n",
    "    'Origin': 'https://www.bigkinds.or.kr',\n",
    "    'Referer': 'https://www.bigkinds.or.kr/v2/news/index.do',\n",
    "    'User-Agent': 'Mozilla/5.0 (Windows NT 10.0; Win64; x64) AppleWebKit/537.36 (KHTML, like Gecko) Chrome/111.0.0.0 Safari/537.36 Edg/111.0.1661.62',\n",
    "}"
   ]
  },
  {
   "cell_type": "code",
   "execution_count": 3,
   "metadata": {},
   "outputs": [],
   "source": [
    "# payload, .기사 리스트 크롤링\n",
    "def request_data(keyword, start_date, end_date):\n",
    "  data = {\n",
    "    \"indexName\":\"news\",\n",
    "    \"searchKey\":f\"{keyword}\",\n",
    "    \"searchKeys\":[{}],\n",
    "    \"byLine\":\"\",\n",
    "    \"searchFilterType\":\"1\",\n",
    "    \"searchScopeType\":\"1\",\n",
    "    \"searchSortType\":\"date\",\n",
    "    \"sortMethod\":\"date\",\n",
    "    \"mainTodayPersonYn\":\"\",\n",
    "    \"startDate\":f\"{start_date}\",\n",
    "    \"endDate\":f\"{end_date}\",\n",
    "    \"newsIds\":[],\n",
    "    \"categoryCodes\":[],\n",
    "    \"providerCodes\":[],\n",
    "    \"incidentCodes\":[],\n",
    "    \"networkNodeType\":\"\",\n",
    "    \"topicOrigin\":\"\",\n",
    "    \"dateCodes\":[],\n",
    "    \"editorialIs\":\"false\",\n",
    "    \"startNo\":1,\n",
    "    \"resultNumber\":1000000,\n",
    "    \"isTmUsable\":\"false\",\n",
    "    \"isNotTmUsable\":\"false\"\n",
    "  }\n",
    "  return json.dumps(data).encode('utf-8')"
   ]
  },
  {
   "cell_type": "code",
   "execution_count": 4,
   "metadata": {},
   "outputs": [],
   "source": [
    "# 각 기사별 내용 크롤링\n",
    "def request_content(new_id):\n",
    "  url = 'https://www.bigkinds.or.kr/news/detailView.do'\n",
    "  params = {\n",
    "    'docId': f'{new_id}',\n",
    "    'returnCnt': '1',\n",
    "    'sectionDiv': '1000',\n",
    "  }\n",
    "  \n",
    "  result = requests.get(url, headers=headers, params=params).json()\n",
    "  return result['detail']['CONTENT']"
   ]
  },
  {
   "cell_type": "code",
   "execution_count": 5,
   "metadata": {},
   "outputs": [],
   "source": [
    "# all function\n",
    "def news_crawl(keyword, start_date, end_date):\n",
    "  url = 'https://www.bigkinds.or.kr/api/news/search.do'\n",
    "  headers = {\n",
    "    'Accept': 'application/json, text/javascript, */*; q=0.01',\n",
    "    'Accept-Language': 'ko,en;q=0.9,en-US;q=0.8',\n",
    "    'Content-Type': 'application/json;charset=UTF-8',\n",
    "    'Host': 'www.bigkinds.or.kr',\n",
    "    'Origin': 'https://www.bigkinds.or.kr',\n",
    "    'Referer': 'https://www.bigkinds.or.kr/v2/news/index.do',\n",
    "    'User-Agent': 'Mozilla/5.0 (Windows NT 10.0; Win64; x64) AppleWebKit/537.36 (KHTML, like Gecko) Chrome/111.0.0.0 Safari/537.36 Edg/111.0.1661.62',\n",
    "}\n",
    "  data = request_data(keyword, start_date, end_date)\n",
    "  res = requests.post(url, headers=headers, data=data).json()\n",
    "  \n",
    "  df = pd.DataFrame()\n",
    "\n",
    "  for i in tqdm(res['resultList']):\n",
    "    try :# 저장내용 \n",
    "          title = i['TITLE']\n",
    "          where = i['PROVIDER']\n",
    "          date=i['DATE']\n",
    "          year = date[0:4]\n",
    "          month = date[4:6]\n",
    "          url = i['PROVIDER_LINK_PAGE']\n",
    "          content = request_content(i['NEWS_ID']).replace('<br/>', ' ')\n",
    "          content = re.sub('(. [가-힣]*=.*)', '', content).strip()\n",
    "          # 기사 frame\n",
    "          sub = pd.DataFrame({'기사제목':[title], '언론사':[where],'년도':[year],'월':[month],'url':[url], '기사내용':[content]})\n",
    "          df = pd.concat([df,sub], axis=0)\n",
    "          time.sleep(3)\n",
    "    except KeyError:\n",
    "           continue\n",
    "  df.to_csv(f'./{keyword}/{start_date}_{keyword}.csv', index=False)\n",
    "\n",
    "  return df\n"
   ]
  },
  {
   "cell_type": "code",
   "execution_count": 6,
   "metadata": {},
   "outputs": [
    {
     "name": "stdout",
     "output_type": "stream",
     "text": [
      "2003-05-01\n"
     ]
    },
    {
     "name": "stderr",
     "output_type": "stream",
     "text": [
      "  5%|▌         | 2/37 [00:06<01:48,  3.10s/it]"
     ]
    }
   ],
   "source": [
    "import os \n",
    "\n",
    "keyword = '항만'\n",
    "if not(keyword in os.listdir()):\n",
    "    os.mkdir(f'./{keyword}')\n",
    "\n",
    "# 날짜 지정    \n",
    "date = pd.date_range(\"2003-05-01\",\"2023-05-01\").strftime('%Y-%m-%d').values\n",
    "date = date[::-1] # 이거 하면 뒤날짜부터 추출되고 주석처리하면 앞부터 추출됩니다!\n",
    "\n",
    "fold_list = os.listdir(f'./{keyword}/')\n",
    "suc_list = [i.split('_')[0] for i in fold_list]\n",
    "\n",
    "for dt in date:\n",
    "    if not(dt in suc_list):\n",
    "        print(dt)\n",
    "        news_crawl(keyword, dt, dt)"
   ]
  },
  {
   "attachments": {},
   "cell_type": "markdown",
   "metadata": {},
   "source": [
    "----------"
   ]
  }
 ],
 "metadata": {
  "kernelspec": {
   "display_name": "Python 3",
   "language": "python",
   "name": "python3"
  },
  "language_info": {
   "codemirror_mode": {
    "name": "ipython",
    "version": 3
   },
   "file_extension": ".py",
   "mimetype": "text/x-python",
   "name": "python",
   "nbconvert_exporter": "python",
   "pygments_lexer": "ipython3",
   "version": "3.8.10"
  },
  "orig_nbformat": 4
 },
 "nbformat": 4,
 "nbformat_minor": 2
}
